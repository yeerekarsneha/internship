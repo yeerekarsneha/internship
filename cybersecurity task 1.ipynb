{
 "cells": [
  {
   "cell_type": "code",
   "execution_count": null,
   "id": "dd67a140-bc58-4e51-a539-458d556aca98",
   "metadata": {},
   "outputs": [
    {
     "name": "stdout",
     "output_type": "stream",
     "text": [
      "Caesar Cipher Program\n"
     ]
    },
    {
     "name": "stdin",
     "output_type": "stream",
     "text": [
      "Do you want to encrypt or decrypt? (enter 'encrypt' or 'decrypt'):  encrypt\n",
      "Enter your message:  i have secret key \n",
      "Enter the shift value (integer):  4\n"
     ]
    },
    {
     "name": "stdout",
     "output_type": "stream",
     "text": [
      "\n",
      "The resulting text is: m lezi wigvix oic \n",
      "\n"
     ]
    },
    {
     "name": "stdin",
     "output_type": "stream",
     "text": [
      "Do you want to try again? (yes/no):  yes\n",
      "Do you want to encrypt or decrypt? (enter 'encrypt' or 'decrypt'):  decrypt\n",
      "Enter your message:  m lezi wigvix oic \n",
      "Enter the shift value (integer):  4\n"
     ]
    },
    {
     "name": "stdout",
     "output_type": "stream",
     "text": [
      "\n",
      "The resulting text is: i have secret key \n",
      "\n"
     ]
    }
   ],
   "source": [
    "# Caesar Cipher Program\n",
    "\n",
    "def caesar_cipher(text, shift, mode='encrypt'):\n",
    "    result = \"\"\n",
    "    for char in text:\n",
    "        if char.isalpha():  \n",
    "            start = ord('A') if char.isupper() else ord('a')\n",
    "            if mode == 'encrypt':\n",
    "                result += chr((ord(char) - start + shift) % 26 + start)\n",
    "            elif mode == 'decrypt':\n",
    "                result += chr((ord(char) - start - shift) % 26 + start)\n",
    "        else:\n",
    "            result += char\n",
    "    return result\n",
    "\n",
    "\n",
    "\n",
    "def main():\n",
    "    print(\"Caesar Cipher Program\")\n",
    "    \n",
    "    while True:\n",
    "        mode = input(\"Do you want to encrypt or decrypt? (enter 'encrypt' or 'decrypt'): \").lower()\n",
    "        if mode not in ['encrypt', 'decrypt']:\n",
    "            print(\"Invalid choice, please enter 'encrypt' or 'decrypt'.\")\n",
    "            continue\n",
    "\n",
    "        message = input(\"Enter your message: \")\n",
    "        try:\n",
    "            shift = int(input(\"Enter the shift value (integer): \"))\n",
    "        except ValueError:\n",
    "            print(\"Please enter a valid integer for the shift value.\")\n",
    "            continue\n",
    "\n",
    "        result = caesar_cipher(message, shift, mode)\n",
    "        print(f\"\\nThe resulting text is: {result}\\n\")\n",
    "\n",
    "        again = input(\"Do you want to try again? (yes/no): \").lower()\n",
    "        if again != 'yes':\n",
    "            break\n",
    "\n",
    "\n",
    "if __name__ == \"__main__\":\n",
    "    main()\n"
   ]
  },
  {
   "cell_type": "code",
   "execution_count": null,
   "id": "931e8377-6ae4-4551-a3a8-2df07d348983",
   "metadata": {},
   "outputs": [],
   "source": []
  }
 ],
 "metadata": {
  "kernelspec": {
   "display_name": "Python 3 (ipykernel)",
   "language": "python",
   "name": "python3"
  },
  "language_info": {
   "codemirror_mode": {
    "name": "ipython",
    "version": 3
   },
   "file_extension": ".py",
   "mimetype": "text/x-python",
   "name": "python",
   "nbconvert_exporter": "python",
   "pygments_lexer": "ipython3",
   "version": "3.12.3"
  }
 },
 "nbformat": 4,
 "nbformat_minor": 5
}
