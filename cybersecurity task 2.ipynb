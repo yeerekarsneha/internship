{
 "cells": [
  {
   "cell_type": "code",
   "execution_count": 6,
   "id": "799c8771-4495-4526-9267-616064e5734c",
   "metadata": {},
   "outputs": [
    {
     "name": "stdout",
     "output_type": "stream",
     "text": [
      "Image Encryption and Decryption Tool\n"
     ]
    },
    {
     "name": "stdin",
     "output_type": "stream",
     "text": [
      "Do you want to encrypt or decrypt an image? (enter 'encrypt' or 'decrypt'):  decrypt\n",
      "Enter the path to the image:  C:/Users/heera/OneDrive/Desktop/cybersecurity elite/encrypted_cat.jpg\n",
      "Enter the shift value (integer):  50\n",
      "Enter the output image path (e.g., encrypted_image.jpg):  C:/Users/heera/OneDrive/Desktop/cybersecurity elite/decrypted_cat.jpg\n"
     ]
    },
    {
     "name": "stdout",
     "output_type": "stream",
     "text": [
      "Image successfully decrypted and saved as C:/Users/heera/OneDrive/Desktop/cybersecurity elite/decrypted_cat.jpg\n"
     ]
    },
    {
     "name": "stdin",
     "output_type": "stream",
     "text": [
      "Do you want to process another image? (yes/no):  no\n"
     ]
    }
   ],
   "source": [
    "from PIL import Image\n",
    "\n",
    "def encrypt_image(image_path, shift_value, output_path):\n",
    "    try:\n",
    "        img = Image.open(image_path)\n",
    "        pixels = img.load()  \n",
    "        \n",
    "        for i in range(img.width):\n",
    "            for j in range(img.height):\n",
    "                r, g, b = pixels[i, j]\n",
    "                pixels[i, j] = ((r + shift_value) % 256, (g + shift_value) % 256, (b + shift_value) % 256)\n",
    "        \n",
    "        img.save(output_path)\n",
    "        print(f\"Image successfully encrypted and saved as {output_path}\")\n",
    "    except Exception as e:\n",
    "        print(f\"Error encrypting image: {e}\")\n",
    "\n",
    "def decrypt_image(image_path, shift_value, output_path):\n",
    "    try:\n",
    "        img = Image.open(image_path)\n",
    "        pixels = img.load()\n",
    "        \n",
    "        for i in range(img.width):\n",
    "            for j in range(img.height):\n",
    "                r, g, b = pixels[i, j]\n",
    "                pixels[i, j] = ((r - shift_value) % 256, (g - shift_value) % 256, (b - shift_value) % 256)\n",
    "        \n",
    "        img.save(output_path)\n",
    "        print(f\"Image successfully decrypted and saved as {output_path}\")\n",
    "    except Exception as e:\n",
    "        print(f\"Error decrypting image: {e}\")\n",
    "\n",
    "\n",
    "def main():\n",
    "    print(\"Image Encryption and Decryption Tool\")\n",
    "    \n",
    "    while True:\n",
    "        mode = input(\"Do you want to encrypt or decrypt an image? (enter 'encrypt' or 'decrypt'): \").lower()\n",
    "        if mode not in ['encrypt', 'decrypt']:\n",
    "            print(\"Invalid option. Please enter 'encrypt' or 'decrypt'.\")\n",
    "            continue\n",
    "        \n",
    "        image_path = input(\"Enter the path to the image: \")\n",
    "        try:\n",
    "            shift_value = int(input(\"Enter the shift value (integer): \"))\n",
    "        except ValueError:\n",
    "            print(\"Please enter a valid integer for the shift value.\")\n",
    "            continue\n",
    "\n",
    "        output_path = input(\"Enter the output image path (e.g., encrypted_image.jpg): \")\n",
    "\n",
    "        if mode == 'encrypt':\n",
    "            encrypt_image(image_path, shift_value, output_path)\n",
    "        elif mode == 'decrypt':\n",
    "            decrypt_image(image_path, shift_value, output_path)\n",
    "\n",
    "        again = input(\"Do you want to process another image? (yes/no): \").lower()\n",
    "        if again != 'yes':\n",
    "            break\n",
    "\n",
    "if __name__ == \"__main__\":\n",
    "    main()\n"
   ]
  },
  {
   "cell_type": "code",
   "execution_count": null,
   "id": "60e9a59a-4d3c-4d2a-abdb-1296c130054c",
   "metadata": {},
   "outputs": [],
   "source": []
  }
 ],
 "metadata": {
  "kernelspec": {
   "display_name": "Python 3 (ipykernel)",
   "language": "python",
   "name": "python3"
  },
  "language_info": {
   "codemirror_mode": {
    "name": "ipython",
    "version": 3
   },
   "file_extension": ".py",
   "mimetype": "text/x-python",
   "name": "python",
   "nbconvert_exporter": "python",
   "pygments_lexer": "ipython3",
   "version": "3.12.3"
  }
 },
 "nbformat": 4,
 "nbformat_minor": 5
}
