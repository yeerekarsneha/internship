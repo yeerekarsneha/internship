{
 "cells": [
  {
   "cell_type": "code",
   "execution_count": null,
   "id": "56a50ab5-d7c0-4868-876c-ab7c9a720fff",
   "metadata": {},
   "outputs": [
    {
     "name": "stdout",
     "output_type": "stream",
     "text": [
      "Password Complexity Checker\n"
     ]
    },
    {
     "name": "stdin",
     "output_type": "stream",
     "text": [
      "Enter your password:  sneha1223\n"
     ]
    },
    {
     "name": "stdout",
     "output_type": "stream",
     "text": [
      "\n",
      "Password Strength: Moderate Password\n",
      "Suggestions to improve your password:\n",
      "- Password should contain at least one uppercase letter.\n",
      "- Password should contain at least one special character (e.g., !@#$%^&*).\n"
     ]
    },
    {
     "name": "stdin",
     "output_type": "stream",
     "text": [
      "\n",
      "Would you like to check another password? (yes/no):  yes\n",
      "Enter your password:  Sneha@123\n"
     ]
    },
    {
     "name": "stdout",
     "output_type": "stream",
     "text": [
      "\n",
      "Password Strength: Strong Password\n"
     ]
    }
   ],
   "source": [
    "import re\n",
    "\n",
    "def check_password_strength(password):\n",
    "    strength_score = 0\n",
    "    feedback = []\n",
    "    \n",
    "    if len(password) >= 8:\n",
    "        strength_score += 1\n",
    "    else:\n",
    "        feedback.append(\"Password should be at least 8 characters long.\")\n",
    "    \n",
    "    if re.search(r'[A-Z]', password):\n",
    "        strength_score += 1\n",
    "    else:\n",
    "        feedback.append(\"Password should contain at least one uppercase letter.\")\n",
    "    \n",
    "    if re.search(r'[a-z]', password):\n",
    "        strength_score += 1\n",
    "    else:\n",
    "        feedback.append(\"Password should contain at least one lowercase letter.\")\n",
    "    \n",
    "    if re.search(r'[0-9]', password):\n",
    "        strength_score += 1\n",
    "    else:\n",
    "        feedback.append(\"Password should contain at least one digit.\")\n",
    "    \n",
    "    if re.search(r'[\\W_]', password):\n",
    "        strength_score += 1\n",
    "    else:\n",
    "        feedback.append(\"Password should contain at least one special character (e.g., !@#$%^&*).\")\n",
    "    \n",
    "    if strength_score == 5:\n",
    "        return \"Strong Password\", feedback\n",
    "    elif strength_score >= 3:\n",
    "        return \"Moderate Password\", feedback\n",
    "    else:\n",
    "        return \"Weak Password\", feedback\n",
    "\n",
    "\n",
    "def main():\n",
    "    print(\"Password Complexity Checker\")\n",
    "\n",
    "    while True:\n",
    "        password = input(\"Enter your password: \")\n",
    "        strength, feedback = check_password_strength(password)\n",
    "        \n",
    "        print(f\"\\nPassword Strength: {strength}\")\n",
    "        if feedback:\n",
    "            print(\"Suggestions to improve your password:\")\n",
    "            for suggestion in feedback:\n",
    "                print(f\"- {suggestion}\")\n",
    "        \n",
    "        again = input(\"\\nWould you like to check another password? (yes/no): \").lower()\n",
    "        if again != 'yes':\n",
    "            break\n",
    "\n",
    "\n",
    "if __name__ == \"__main__\":\n",
    "    main()\n"
   ]
  },
  {
   "cell_type": "code",
   "execution_count": null,
   "id": "0048919f-0e59-416f-8797-f8c2d25efe75",
   "metadata": {},
   "outputs": [],
   "source": []
  }
 ],
 "metadata": {
  "kernelspec": {
   "display_name": "Python 3 (ipykernel)",
   "language": "python",
   "name": "python3"
  },
  "language_info": {
   "codemirror_mode": {
    "name": "ipython",
    "version": 3
   },
   "file_extension": ".py",
   "mimetype": "text/x-python",
   "name": "python",
   "nbconvert_exporter": "python",
   "pygments_lexer": "ipython3",
   "version": "3.12.3"
  }
 },
 "nbformat": 4,
 "nbformat_minor": 5
}
