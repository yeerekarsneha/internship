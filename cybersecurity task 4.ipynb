{
 "cells": [
  {
   "cell_type": "code",
   "execution_count": 1,
   "id": "f6be5ee2-3b4a-41f5-bd78-c3593a1f4587",
   "metadata": {},
   "outputs": [
    {
     "name": "stdout",
     "output_type": "stream",
     "text": [
      "Collecting scapy\n",
      "  Downloading scapy-2.6.0-py3-none-any.whl.metadata (5.6 kB)\n",
      "Downloading scapy-2.6.0-py3-none-any.whl (2.4 MB)\n",
      "   ---------------------------------------- 0.0/2.4 MB ? eta -:--:--\n",
      "   ---------------------------------------- 0.0/2.4 MB ? eta -:--:--\n",
      "   ---- ----------------------------------- 0.3/2.4 MB ? eta -:--:--\n",
      "   ---- ----------------------------------- 0.3/2.4 MB ? eta -:--:--\n",
      "   -------- ------------------------------- 0.5/2.4 MB 837.5 kB/s eta 0:00:03\n",
      "   ------------ --------------------------- 0.8/2.4 MB 780.2 kB/s eta 0:00:03\n",
      "   ------------ --------------------------- 0.8/2.4 MB 780.2 kB/s eta 0:00:03\n",
      "   ----------------- ---------------------- 1.0/2.4 MB 774.0 kB/s eta 0:00:02\n",
      "   ----------------- ---------------------- 1.0/2.4 MB 774.0 kB/s eta 0:00:02\n",
      "   --------------------- ------------------ 1.3/2.4 MB 745.8 kB/s eta 0:00:02\n",
      "   ------------------------- -------------- 1.6/2.4 MB 776.5 kB/s eta 0:00:02\n",
      "   ------------------------- -------------- 1.6/2.4 MB 776.5 kB/s eta 0:00:02\n",
      "   ------------------------------ --------- 1.8/2.4 MB 780.2 kB/s eta 0:00:01\n",
      "   ---------------------------------- ----- 2.1/2.4 MB 798.9 kB/s eta 0:00:01\n",
      "   -------------------------------------- - 2.4/2.4 MB 828.6 kB/s eta 0:00:01\n",
      "   ---------------------------------------- 2.4/2.4 MB 829.2 kB/s eta 0:00:00\n",
      "Installing collected packages: scapy\n",
      "Successfully installed scapy-2.6.0\n",
      "Note: you may need to restart the kernel to use updated packages.\n"
     ]
    }
   ],
   "source": [
    "pip install scapy"
   ]
  },
  {
   "cell_type": "code",
   "execution_count": null,
   "id": "8fb33728-cc06-4026-ad27-89b214bf70f1",
   "metadata": {},
   "outputs": [],
   "source": [
    "from scapy.all import *\n",
    "from scapy.layers.inet import IP, TCP, UDP, ICMP\n",
    "\n",
    "def packet_callback(packet):\n",
    "    if IP in packet:\n",
    "        ip_src = packet[IP].src\n",
    "        ip_dst = packet[IP].dst\n",
    "        proto = packet[IP].proto\n",
    "        \n",
    "        if packet.haslayer(TCP):\n",
    "            print(f\"[TCP] {ip_src} --> {ip_dst}, Source Port: {packet[TCP].sport}, Destination Port: {packet[TCP].dport}\")\n",
    "        elif packet.haslayer(UDP):\n",
    "            print(f\"[UDP] {ip_src} --> {ip_dst}, Source Port: {packet[UDP].sport}, Destination Port: {packet[UDP].dport}\")\n",
    "        elif packet.haslayer(ICMP):\n",
    "            print(f\"[ICMP] {ip_src} --> {ip_dst}\")\n",
    "        else:\n",
    "            print(f\"[Other] {ip_src} --> {ip_dst}, Protocol: {proto}\")\n",
    "\n",
    "        if Raw in packet:\n",
    "            print(f\"Payload: {packet[Raw].load}\\n\")\n",
    "\n",
    "def start_sniffing(interface):\n",
    "    print(f\"[*] Sniffing on {interface}\")\n",
    "    sniff(iface=interface, prn=packet_callback, store=False)\n",
    "\n",
    "if __name__ == \"__main__\":\n",
    "    interface = input(\"Enter the interface to sniff on (e.g., eth0, Wi-Fi): \")\n",
    "    start_sniffing(interface)\n"
   ]
  },
  {
   "cell_type": "code",
   "execution_count": null,
   "id": "c0ed7bb6-5dab-4eea-bcd3-c5a30c570db1",
   "metadata": {},
   "outputs": [],
   "source": []
  }
 ],
 "metadata": {
  "kernelspec": {
   "display_name": "Python 3 (ipykernel)",
   "language": "python",
   "name": "python3"
  },
  "language_info": {
   "codemirror_mode": {
    "name": "ipython",
    "version": 3
   },
   "file_extension": ".py",
   "mimetype": "text/x-python",
   "name": "python",
   "nbconvert_exporter": "python",
   "pygments_lexer": "ipython3",
   "version": "3.12.3"
  }
 },
 "nbformat": 4,
 "nbformat_minor": 5
}
